{
 "cells": [
  {
   "cell_type": "markdown",
   "id": "d9692c11",
   "metadata": {},
   "source": [
    "# Square\n",
    "Objective: $n = \\sqrt{2}$"
   ]
  },
  {
   "cell_type": "markdown",
   "id": "e411dd4f",
   "metadata": {},
   "source": [
    "# Newton: Close to Zero point: \n",
    "$n = \\sqrt{2}$ -> zero point of $f(n)=n^2 -2$"
   ]
  },
  {
   "cell_type": "code",
   "execution_count": 15,
   "id": "13326e0f",
   "metadata": {},
   "outputs": [
    {
     "name": "stdout",
     "output_type": "stream",
     "text": [
      "Estimate of square 2 is 1.414213562373095 with starting points 3.\n",
      "Estimate of square 2 is -1.414213562373095 with starting points -3.\n"
     ]
    }
   ],
   "source": [
    "#help function:\n",
    "def f(n):\n",
    "    return n**2 - 2\n",
    "def df(n):\n",
    "    return 2*n\n",
    "n = 3#initial guess\n",
    "n_ = n\n",
    "store = [n]\n",
    "epochs = 100\n",
    "for epoch in range(epochs):\n",
    "    n_new = n - f(n)/df(n)\n",
    "    n=n_new\n",
    "    store.append(n)\n",
    "print(f'Estimate of square 2 is {store[-1]} with starting points {n_}.')\n",
    "n = -3#initial guess\n",
    "n_ = n\n",
    "store = [n]\n",
    "epochs = 100\n",
    "for epoch in range(epochs):\n",
    "    n_new = n - f(n)/df(n)\n",
    "    n=n_new\n",
    "    store.append(n)\n",
    "print(f'Estimate of square 2 is {store[-1]} with starting points {n_}.')"
   ]
  },
  {
   "cell_type": "markdown",
   "id": "b69cce64",
   "metadata": {},
   "source": [
    "# Gradient descent\n",
    "$n = \\sqrt{2}$ -> $n^2-2=0$->$argmax_n\\frac{1}{3}n^3-2n$"
   ]
  },
  {
   "cell_type": "code",
   "execution_count": 46,
   "id": "791f89d9",
   "metadata": {},
   "outputs": [
    {
     "name": "stdout",
     "output_type": "stream",
     "text": [
      "Estimate of square 2 is 1.4142135623730983 with starting points -3.\n",
      "n=-3 is local maxima, so can not be found\n"
     ]
    }
   ],
   "source": [
    "def f(n):\n",
    "    return 1/3*n**3-2*n\n",
    "\n",
    "def df(n):\n",
    "    return n**2-2\n",
    "\n",
    "lr = 0.1\n",
    "# Newton's method implementation\n",
    "n = 3  # initial guess\n",
    "n_\n",
    "store = [n]\n",
    "epochs = 100  # fewer epochs usually needed\n",
    "for epoch in range(epochs):\n",
    "    n_new = n - lr*df(n)\n",
    "    n = n_new\n",
    "    store.append(n)\n",
    "\n",
    "print(f'Estimate of square 2 is {store[-1]} with starting points {n_}.')\n",
    "print('n=-3 is local maxima, so can not be found' )"
   ]
  },
  {
   "cell_type": "code",
   "execution_count": null,
   "id": "04eca2f4",
   "metadata": {},
   "outputs": [],
   "source": []
  }
 ],
 "metadata": {
  "kernelspec": {
   "display_name": "Python 3 (ipykernel)",
   "language": "python",
   "name": "python3"
  },
  "language_info": {
   "codemirror_mode": {
    "name": "ipython",
    "version": 3
   },
   "file_extension": ".py",
   "mimetype": "text/x-python",
   "name": "python",
   "nbconvert_exporter": "python",
   "pygments_lexer": "ipython3",
   "version": "3.9.7"
  }
 },
 "nbformat": 4,
 "nbformat_minor": 5
}
